{
 "cells": [
  {
   "cell_type": "markdown",
   "id": "908a7f53-49b7-4c04-b423-ae76e4d91d7c",
   "metadata": {},
   "source": [
    "## Analyse des donnée des opérateur"
   ]
  },
  {
   "cell_type": "markdown",
   "id": "20c8cc85-777e-4831-8ecf-bcd1605bcb6a",
   "metadata": {},
   "source": [
    "<p style='color:blue; font-style: italic'>Exploring the data with Pandas, Numpy, and Matplotlib</p>\n"
   ]
  },
  {
   "cell_type": "code",
   "execution_count": null,
   "id": "d275f36e-cefd-44ba-880e-e036ba377253",
   "metadata": {},
   "outputs": [],
   "source": [
    "import pandas as pd\n",
    "import numpy as np\n",
    "import matplotlib.pyplot as plt"
   ]
  },
  {
   "cell_type": "markdown",
   "id": "c68d2ba3-b206-45a3-86f1-89ba83a58a9e",
   "metadata": {},
   "source": [
    "<p style='color:blue; font-style: italic'>Reading and Exploring the Comparison-RSRP1 dataset</p>\n"
   ]
  },
  {
   "cell_type": "code",
   "execution_count": 179,
   "id": "b2817614-283f-4fd0-9cda-5eec404a5908",
   "metadata": {},
   "outputs": [],
   "source": [
    "df=pd.read_csv('Comparison-RSRP1.csv')"
   ]
  },
  {
   "cell_type": "code",
   "execution_count": 180,
   "id": "f6010dac-6088-4ffa-bf24-b028c70ea43d",
   "metadata": {},
   "outputs": [],
   "source": [
    "df.columns = ['TT', 'OO', 'OR', 'Lon', 'Lat']\n"
   ]
  },
  {
   "cell_type": "code",
   "execution_count": 181,
   "id": "23632c52-32c3-41e5-ae58-9d5ae047d005",
   "metadata": {},
   "outputs": [],
   "source": [
    "df = df.drop(0, axis=0)"
   ]
  },
  {
   "cell_type": "markdown",
   "id": "7c7da401-d5ff-4f59-84a3-1db77e958ae8",
   "metadata": {},
   "source": [
    "<p style='color:blue; font-style: italic'>Columns</p>\n"
   ]
  },
  {
   "cell_type": "code",
   "execution_count": 182,
   "id": "76654174-a9b4-4aef-a52d-629eef313bdc",
   "metadata": {},
   "outputs": [
    {
     "data": {
      "text/plain": [
       "Index(['TT', 'OO', 'OR', 'Lon', 'Lat'], dtype='object')"
      ]
     },
     "execution_count": 182,
     "metadata": {},
     "output_type": "execute_result"
    }
   ],
   "source": [
    "df.columns"
   ]
  },
  {
   "cell_type": "markdown",
   "id": "6fc2c944-dcf3-41ca-a4bc-458c2e1a35c6",
   "metadata": {},
   "source": [
    "<p style='color:blue; font-style: italic'>Previewing the first few rows of the Comparison-RSRP1 dataset</p>\n"
   ]
  },
  {
   "cell_type": "code",
   "execution_count": 183,
   "id": "5e3962d0-0a4d-4dea-9353-09a0f0a9e5f5",
   "metadata": {},
   "outputs": [
    {
     "data": {
      "text/html": [
       "<div>\n",
       "<style scoped>\n",
       "    .dataframe tbody tr th:only-of-type {\n",
       "        vertical-align: middle;\n",
       "    }\n",
       "\n",
       "    .dataframe tbody tr th {\n",
       "        vertical-align: top;\n",
       "    }\n",
       "\n",
       "    .dataframe thead th {\n",
       "        text-align: right;\n",
       "    }\n",
       "</style>\n",
       "<table border=\"1\" class=\"dataframe\">\n",
       "  <thead>\n",
       "    <tr style=\"text-align: right;\">\n",
       "      <th></th>\n",
       "      <th>TT</th>\n",
       "      <th>OO</th>\n",
       "      <th>OR</th>\n",
       "      <th>Lon</th>\n",
       "      <th>Lat</th>\n",
       "    </tr>\n",
       "  </thead>\n",
       "  <tbody>\n",
       "    <tr>\n",
       "      <th>1</th>\n",
       "      <td>-80.69999695</td>\n",
       "      <td>-80.69999695</td>\n",
       "      <td>-80.69999695</td>\n",
       "      <td>0</td>\n",
       "      <td>0</td>\n",
       "    </tr>\n",
       "    <tr>\n",
       "      <th>2</th>\n",
       "      <td>-80</td>\n",
       "      <td>-91.5</td>\n",
       "      <td>-91.5</td>\n",
       "      <td>0</td>\n",
       "      <td>0</td>\n",
       "    </tr>\n",
       "    <tr>\n",
       "      <th>3</th>\n",
       "      <td>-76.5</td>\n",
       "      <td>-80</td>\n",
       "      <td>-77.69999695</td>\n",
       "      <td>10.85557842</td>\n",
       "      <td>33.8850708</td>\n",
       "    </tr>\n",
       "    <tr>\n",
       "      <th>4</th>\n",
       "      <td>-76.5</td>\n",
       "      <td>-76.5</td>\n",
       "      <td>-77.69999695</td>\n",
       "      <td>10.85557842</td>\n",
       "      <td>33.8850708</td>\n",
       "    </tr>\n",
       "    <tr>\n",
       "      <th>5</th>\n",
       "      <td>-76.5</td>\n",
       "      <td>-89.80000305</td>\n",
       "      <td>-80</td>\n",
       "      <td>0</td>\n",
       "      <td>0</td>\n",
       "    </tr>\n",
       "  </tbody>\n",
       "</table>\n",
       "</div>"
      ],
      "text/plain": [
       "             TT            OO            OR          Lon         Lat\n",
       "1  -80.69999695  -80.69999695  -80.69999695            0           0\n",
       "2           -80         -91.5         -91.5            0           0\n",
       "3         -76.5           -80  -77.69999695  10.85557842  33.8850708\n",
       "4         -76.5         -76.5  -77.69999695  10.85557842  33.8850708\n",
       "5         -76.5  -89.80000305           -80            0           0"
      ]
     },
     "execution_count": 183,
     "metadata": {},
     "output_type": "execute_result"
    }
   ],
   "source": [
    "df.head()"
   ]
  },
  {
   "cell_type": "markdown",
   "id": "5e9d800f-581a-4cbe-a647-c8fc9a31d64b",
   "metadata": {},
   "source": [
    "<p style='color:blue; font-style: italic'>Overview of the Comparison-RSRP1 dataset with df.info()</p>\n"
   ]
  },
  {
   "cell_type": "code",
   "execution_count": 184,
   "id": "ffdea220-c94c-4792-ab0b-4e3e26eaddff",
   "metadata": {},
   "outputs": [
    {
     "name": "stdout",
     "output_type": "stream",
     "text": [
      "<class 'pandas.core.frame.DataFrame'>\n",
      "RangeIndex: 86997 entries, 1 to 86997\n",
      "Data columns (total 5 columns):\n",
      " #   Column  Non-Null Count  Dtype \n",
      "---  ------  --------------  ----- \n",
      " 0   TT      86997 non-null  object\n",
      " 1   OO      86997 non-null  object\n",
      " 2   OR      86997 non-null  object\n",
      " 3   Lon     86997 non-null  object\n",
      " 4   Lat     86997 non-null  object\n",
      "dtypes: object(5)\n",
      "memory usage: 3.3+ MB\n"
     ]
    }
   ],
   "source": [
    "df.info()\n"
   ]
  },
  {
   "cell_type": "markdown",
   "id": "a45c8e8a-4d5f-4984-995c-38707292a454",
   "metadata": {},
   "source": [
    "<p style='color:blue; font-style: italic'>Dimensions of the Comparison-RSRP1 dataset</p>\n"
   ]
  },
  {
   "cell_type": "code",
   "execution_count": 185,
   "id": "bfbb0941-dc57-484c-95a1-3e2c886aafcf",
   "metadata": {},
   "outputs": [
    {
     "data": {
      "text/plain": [
       "(86997, 5)"
      ]
     },
     "execution_count": 185,
     "metadata": {},
     "output_type": "execute_result"
    }
   ],
   "source": [
    "df.shape"
   ]
  },
  {
   "cell_type": "markdown",
   "id": "55fad017-385b-46cd-a9fa-78d99ac40f20",
   "metadata": {},
   "source": [
    "<p style='color:blue; font-style: italic'>Creating a new column for Unknown Locations in the Comparison-RSRP1 dataset</p>\n"
   ]
  },
  {
   "cell_type": "code",
   "execution_count": 186,
   "id": "2bb35971-9869-4148-be2c-0820587181d5",
   "metadata": {},
   "outputs": [],
   "source": [
    "\n",
    "df['unknown_location'] = np.where((df.Lon == '0') & (df.Lat == '0'), True, False)\n"
   ]
  },
  {
   "cell_type": "markdown",
   "id": "de26b7e8-fb89-4d56-9cfb-7f79f4a8bee5",
   "metadata": {},
   "source": [
    "<p style='color:blue; font-style: italic'>Previewing the first and last few rows of the Comparison-RSRP1 dataset</p>\n"
   ]
  },
  {
   "cell_type": "code",
   "execution_count": 187,
   "id": "561aebbe-8ea3-44b6-93f1-fecd77d58369",
   "metadata": {
    "tags": []
   },
   "outputs": [
    {
     "data": {
      "text/html": [
       "<div>\n",
       "<style scoped>\n",
       "    .dataframe tbody tr th:only-of-type {\n",
       "        vertical-align: middle;\n",
       "    }\n",
       "\n",
       "    .dataframe tbody tr th {\n",
       "        vertical-align: top;\n",
       "    }\n",
       "\n",
       "    .dataframe thead th {\n",
       "        text-align: right;\n",
       "    }\n",
       "</style>\n",
       "<table border=\"1\" class=\"dataframe\">\n",
       "  <thead>\n",
       "    <tr style=\"text-align: right;\">\n",
       "      <th></th>\n",
       "      <th>TT</th>\n",
       "      <th>OO</th>\n",
       "      <th>OR</th>\n",
       "      <th>Lon</th>\n",
       "      <th>Lat</th>\n",
       "      <th>unknown_location</th>\n",
       "    </tr>\n",
       "  </thead>\n",
       "  <tbody>\n",
       "    <tr>\n",
       "      <th>1</th>\n",
       "      <td>-80.69999695</td>\n",
       "      <td>-80.69999695</td>\n",
       "      <td>-80.69999695</td>\n",
       "      <td>0</td>\n",
       "      <td>0</td>\n",
       "      <td>True</td>\n",
       "    </tr>\n",
       "    <tr>\n",
       "      <th>2</th>\n",
       "      <td>-80</td>\n",
       "      <td>-91.5</td>\n",
       "      <td>-91.5</td>\n",
       "      <td>0</td>\n",
       "      <td>0</td>\n",
       "      <td>True</td>\n",
       "    </tr>\n",
       "    <tr>\n",
       "      <th>3</th>\n",
       "      <td>-76.5</td>\n",
       "      <td>-80</td>\n",
       "      <td>-77.69999695</td>\n",
       "      <td>10.85557842</td>\n",
       "      <td>33.8850708</td>\n",
       "      <td>False</td>\n",
       "    </tr>\n",
       "    <tr>\n",
       "      <th>4</th>\n",
       "      <td>-76.5</td>\n",
       "      <td>-76.5</td>\n",
       "      <td>-77.69999695</td>\n",
       "      <td>10.85557842</td>\n",
       "      <td>33.8850708</td>\n",
       "      <td>False</td>\n",
       "    </tr>\n",
       "    <tr>\n",
       "      <th>5</th>\n",
       "      <td>-76.5</td>\n",
       "      <td>-89.80000305</td>\n",
       "      <td>-80</td>\n",
       "      <td>0</td>\n",
       "      <td>0</td>\n",
       "      <td>True</td>\n",
       "    </tr>\n",
       "  </tbody>\n",
       "</table>\n",
       "</div>"
      ],
      "text/plain": [
       "             TT            OO            OR          Lon         Lat  \\\n",
       "1  -80.69999695  -80.69999695  -80.69999695            0           0   \n",
       "2           -80         -91.5         -91.5            0           0   \n",
       "3         -76.5           -80  -77.69999695  10.85557842  33.8850708   \n",
       "4         -76.5         -76.5  -77.69999695  10.85557842  33.8850708   \n",
       "5         -76.5  -89.80000305           -80            0           0   \n",
       "\n",
       "   unknown_location  \n",
       "1              True  \n",
       "2              True  \n",
       "3             False  \n",
       "4             False  \n",
       "5              True  "
      ]
     },
     "execution_count": 187,
     "metadata": {},
     "output_type": "execute_result"
    }
   ],
   "source": [
    "df.head()"
   ]
  },
  {
   "cell_type": "code",
   "execution_count": 188,
   "id": "7db26de1-94cd-4cfd-865b-31637089a02c",
   "metadata": {},
   "outputs": [
    {
     "data": {
      "text/html": [
       "<div>\n",
       "<style scoped>\n",
       "    .dataframe tbody tr th:only-of-type {\n",
       "        vertical-align: middle;\n",
       "    }\n",
       "\n",
       "    .dataframe tbody tr th {\n",
       "        vertical-align: top;\n",
       "    }\n",
       "\n",
       "    .dataframe thead th {\n",
       "        text-align: right;\n",
       "    }\n",
       "</style>\n",
       "<table border=\"1\" class=\"dataframe\">\n",
       "  <thead>\n",
       "    <tr style=\"text-align: right;\">\n",
       "      <th></th>\n",
       "      <th>TT</th>\n",
       "      <th>OO</th>\n",
       "      <th>OR</th>\n",
       "      <th>Lon</th>\n",
       "      <th>Lat</th>\n",
       "      <th>unknown_location</th>\n",
       "    </tr>\n",
       "  </thead>\n",
       "  <tbody>\n",
       "    <tr>\n",
       "      <th>86993</th>\n",
       "      <td>-81.40000153</td>\n",
       "      <td>-99.30000305</td>\n",
       "      <td>-88.09999847</td>\n",
       "      <td>10.86433887</td>\n",
       "      <td>33.86333466</td>\n",
       "      <td>False</td>\n",
       "    </tr>\n",
       "    <tr>\n",
       "      <th>86994</th>\n",
       "      <td>-76.19999695</td>\n",
       "      <td>-71.90000153</td>\n",
       "      <td>-83.19999695</td>\n",
       "      <td>10.86440086</td>\n",
       "      <td>33.86333466</td>\n",
       "      <td>False</td>\n",
       "    </tr>\n",
       "    <tr>\n",
       "      <th>86995</th>\n",
       "      <td>-80.09999847</td>\n",
       "      <td>-102.4000015</td>\n",
       "      <td>-91.40000153</td>\n",
       "      <td>10.86440086</td>\n",
       "      <td>33.86333466</td>\n",
       "      <td>False</td>\n",
       "    </tr>\n",
       "    <tr>\n",
       "      <th>86996</th>\n",
       "      <td>-77.80000305</td>\n",
       "      <td>-74.19999695</td>\n",
       "      <td>-87.80000305</td>\n",
       "      <td>10.86446667</td>\n",
       "      <td>33.8633194</td>\n",
       "      <td>False</td>\n",
       "    </tr>\n",
       "    <tr>\n",
       "      <th>86997</th>\n",
       "      <td>-81.90000153</td>\n",
       "      <td>-97.80000305</td>\n",
       "      <td>-87.80000305</td>\n",
       "      <td>10.86446667</td>\n",
       "      <td>33.8633194</td>\n",
       "      <td>False</td>\n",
       "    </tr>\n",
       "  </tbody>\n",
       "</table>\n",
       "</div>"
      ],
      "text/plain": [
       "                 TT            OO            OR          Lon          Lat  \\\n",
       "86993  -81.40000153  -99.30000305  -88.09999847  10.86433887  33.86333466   \n",
       "86994  -76.19999695  -71.90000153  -83.19999695  10.86440086  33.86333466   \n",
       "86995  -80.09999847  -102.4000015  -91.40000153  10.86440086  33.86333466   \n",
       "86996  -77.80000305  -74.19999695  -87.80000305  10.86446667   33.8633194   \n",
       "86997  -81.90000153  -97.80000305  -87.80000305  10.86446667   33.8633194   \n",
       "\n",
       "       unknown_location  \n",
       "86993             False  \n",
       "86994             False  \n",
       "86995             False  \n",
       "86996             False  \n",
       "86997             False  "
      ]
     },
     "execution_count": 188,
     "metadata": {},
     "output_type": "execute_result"
    }
   ],
   "source": [
    "df.tail()"
   ]
  },
  {
   "cell_type": "markdown",
   "id": "614493de-1afd-4ff7-8cf3-6a02c132e6a5",
   "metadata": {},
   "source": [
    "<p style='color:blue; font-style: italic'>Converting columns to numeric in the Comparison-RSRP1 dataset</p>\n"
   ]
  },
  {
   "cell_type": "code",
   "execution_count": 189,
   "id": "f1d2519e-52d5-4fd3-ba50-cb40a0c6c538",
   "metadata": {},
   "outputs": [],
   "source": [
    "df[\"TT\"] = pd.to_numeric(df[\"TT\"], errors='coerce')\n",
    "df[\"OO\"] = pd.to_numeric(df[\"OO\"], errors='coerce')\n",
    "df[\"OR\"] = pd.to_numeric(df[\"OR\"], errors='coerce')\n"
   ]
  },
  {
   "cell_type": "markdown",
   "id": "fb9e5bb6-5da9-44c4-8962-a15aae5aa430",
   "metadata": {},
   "source": [
    "<p style='color:blue; font-style: italic'>Determining the best average RSRP value in the Comparison-RSRP1 dataset</p>\n"
   ]
  },
  {
   "cell_type": "code",
   "execution_count": 190,
   "id": "f00999a1-b8ea-437b-aa7a-b2fb818bedf2",
   "metadata": {},
   "outputs": [
    {
     "name": "stdout",
     "output_type": "stream",
     "text": [
      "The best average is in the TT column with value:  -85.63772351010988\n"
     ]
    }
   ],
   "source": [
    "mean_TT = df['TT'].mean()\n",
    "mean_OO = df['OO'].mean()\n",
    "mean_OR = df['OR'].mean()\n",
    "if mean_TT > mean_OO and mean_TT > mean_OR:\n",
    "    print(\"The best average is in the TT column with value: \",mean_TT)\n",
    "elif mean_OO > mean_TT and mean_OO > mean_OR:\n",
    "    print(\"The best average is in the OO column with value: \",mean_OO)\n",
    "else:\n",
    "    print(\"The best average is in the OR column with value: \",mean_OR)\n"
   ]
  },
  {
   "cell_type": "code",
   "execution_count": 192,
   "id": "0d53eab1-7be4-4d67-b42f-0ec3bd8dfaaf",
   "metadata": {},
   "outputs": [
    {
     "data": {
      "image/png": "[encoded data removed]",
      "text/plain": [
       "<Figure size 640x480 with 1 Axes>"
      ]
     },
     "metadata": {},
     "output_type": "display_data"
    }
   ],
   "source": [
    "values = [mean_TT, mean_OO, mean_OR]\n",
    "columns = ['TT', 'OO', 'OR']\n",
    "plt.plot(columns, values)\n",
    "\n",
    "\n",
    "plt.xlabel('OPERATEUR')\n",
    "plt.ylabel('BEST RSRP')\n",
    "plt.title('RSRP values of TT, OO, OR')\n",
    "\n",
    "plt.show()\n",
    "\n",
    "\n"
   ]
  },
  {
   "cell_type": "markdown",
   "id": "e9509db2-6bd2-4b53-90c8-f1e7a595a049",
   "metadata": {},
   "source": [
    "<p style='color:blue; font-style: italic'>Known and Unknown Locations</p>"
   ]
  },
  {
   "cell_type": "code",
   "execution_count": 257,
   "id": "3993f52b-7a93-4fd3-888b-933247d6575e",
   "metadata": {},
   "outputs": [
    {
     "data": {
      "image/png": "[encoded data removed]",
      "text/plain": [
       "<Figure size 640x480 with 1 Axes>"
      ]
     },
     "metadata": {},
     "output_type": "display_data"
    }
   ],
   "source": [
    "\n",
    "known = df.loc[df['unknown_location'] == False]\n",
    "unknown = df.loc[df['unknown_location'] == True]\n",
    "plt.scatter(known.index, known['TT'], c='blue', label='Known Locations')\n",
    "plt.scatter(unknown.index, unknown['TT'], c='red', label='Unknown Locations')\n",
    "plt.title('Known and Unknown Locations')\n",
    "plt.xlabel('Index')\n",
    "plt.ylabel('RSRP')\n",
    "plt.legend()\n",
    "plt.show()"
   ]
  },
  {
   "cell_type": "markdown",
   "id": "db8bd3fa-4eb1-41e3-b58a-f277812fd536",
   "metadata": {},
   "source": [
    "<p style='color:blue; font-style: italic'>Minimum and Maximum RSRP values</p>"
   ]
  },
  {
   "cell_type": "code",
   "execution_count": 231,
   "id": "1e053552-997d-458f-9b32-1fa0497d86d5",
   "metadata": {},
   "outputs": [
    {
     "data": {
      "image/png": "[encoded data removed]",
      "text/plain": [
       "<Figure size 640x480 with 1 Axes>"
      ]
     },
     "metadata": {},
     "output_type": "display_data"
    }
   ],
   "source": [
    "df[['TT', 'OO', 'OR']] = df[['TT', 'OO', 'OR']].apply(pd.to_numeric, errors='coerce')\n",
    "df[['TT', 'OO', 'OR']].plot.box(vert=False, showfliers=False)\n",
    "plt.title('Minimum and Maximum RSRP values')\n",
    "plt.xlabel('RSRP Value')\n",
    "plt.ylabel('Column')\n",
    "ax = plt.gca()\n",
    "ax.set_facecolor('pink')\n",
    "plt.show()"
   ]
  }
 ],
 "metadata": {
  "kernelspec": {
   "display_name": "Python 3 (ipykernel)",
   "language": "python",
   "name": "python3"
  },
  "language_info": {
   "codemirror_mode": {
    "name": "ipython",
    "version": 3
   },
   "file_extension": ".py",
   "mimetype": "text/x-python",
   "name": "python",
   "nbconvert_exporter": "python",
   "pygments_lexer": "ipython3",
   "version": "3.11.1"
  }
 },
 "nbformat": 4,
 "nbformat_minor": 5
}
